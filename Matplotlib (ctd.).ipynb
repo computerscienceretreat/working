{
 "cells": [
  {
   "cell_type": "markdown",
   "metadata": {},
   "source": [
    "## Fir Tree Exercise\n",
    "\n",
    "Go to https://github.com/computerscienceretreat/working and download the firs.npy data set.\n",
    "\n",
    "This is a `numpy` array containing fir tree counts in the format [[tree count, forest row, forest column],....]\n",
    "\n",
    "Read in the file (use `np.load(<filename>)`) and make a suitable visualisation of the data.  Remember to label all the axes and have a colourbar for the z axis.\n",
    "\n",
    "Check out https://matplotlib.org/examples/color/colormaps_reference.html and also make it beautiful!"
   ]
  }
 ],
 "metadata": {
  "kernelspec": {
   "display_name": "Python 3",
   "language": "python",
   "name": "python3"
  },
  "language_info": {
   "codemirror_mode": {
    "name": "ipython",
    "version": 3
   },
   "file_extension": ".py",
   "mimetype": "text/x-python",
   "name": "python",
   "nbconvert_exporter": "python",
   "pygments_lexer": "ipython3",
   "version": "3.6.2"
  }
 },
 "nbformat": 4,
 "nbformat_minor": 2
}
