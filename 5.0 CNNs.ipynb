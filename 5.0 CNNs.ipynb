{
 "cells": [
  {
   "cell_type": "markdown",
   "metadata": {},
   "source": [
    "## Convolutional Neural Networks (CNNs)\n",
    "\n",
    "Now we'll introduce one of the most useful devices in computer vision."
   ]
  },
  {
   "cell_type": "code",
   "execution_count": 15,
   "metadata": {
    "collapsed": true
   },
   "outputs": [],
   "source": [
    "import numpy as np\n",
    "import matplotlib.pyplot as plt\n",
    "%matplotlib inline"
   ]
  },
  {
   "cell_type": "code",
   "execution_count": 16,
   "metadata": {},
   "outputs": [],
   "source": [
    "from keras.models import Sequential\n",
    "from keras.layers import Dense, Conv2D, Flatten"
   ]
  },
  {
   "cell_type": "markdown",
   "metadata": {},
   "source": [
    "### Square Detector\n",
    "\n",
    "Let's start off with the by making some images of squares.  We'll explore some common data and algorithm related mistakes!  The sharp eyed amoungst you will notice the training data we're making is going to be terrible for making an algorithm that will generalize.  Don't panic - you'll be fixing this later!"
   ]
  },
  {
   "cell_type": "code",
   "execution_count": 17,
   "metadata": {
    "collapsed": true
   },
   "outputs": [],
   "source": [
    "def data_generator(shape,square=False):\n",
    "    data_array = np.zeros(shape)\n",
    "    for i in range(data_array.shape[0]):\n",
    "        data = np.zeros_like(data_array[i])\n",
    "        if square:\n",
    "            data[2:4,2:4] = 1.0\n",
    "        data = data + 0.2*np.random.rand(data.shape[0],data.shape[1])\n",
    "        data = np.clip(data,0.0,1.0)\n",
    "        data = data - 0.1*np.random.rand(data.shape[0],data.shape[1])\n",
    "        data = np.clip(data,0.0,1.0)\n",
    "        data_array[i] = data\n",
    "    return data_array\n",
    "\n",
    "def make_data():\n",
    "    x_background = data_generator((10,5,5))\n",
    "    x_square = data_generator((10,5,5),True)\n",
    "    y_square = np.ones(x_square.shape[0])\n",
    "    y_background = np.zeros(x_background.shape[0])\n",
    "    return np.vstack((x_square,x_background)), np.append(y_square,y_background)"
   ]
  },
  {
   "cell_type": "code",
   "execution_count": 18,
   "metadata": {},
   "outputs": [
    {
     "name": "stdout",
     "output_type": "stream",
     "text": [
      "(20, 5, 5) (20,)\n"
     ]
    }
   ],
   "source": [
    "x, y = make_data()\n",
    "print(x.shape, y.shape)"
   ]
  },
  {
   "cell_type": "markdown",
   "metadata": {},
   "source": [
    "###  Look at the data.\n",
    "\n",
    "First rule.  Always look at the data."
   ]
  },
  {
   "cell_type": "code",
   "execution_count": 19,
   "metadata": {},
   "outputs": [
    {
     "data": {
      "image/png": "[encoded data removed]",
      "text/plain": [
       "<Figure size 432x288 with 9 Axes>"
      ]
     },
     "metadata": {},
     "output_type": "display_data"
    }
   ],
   "source": [
    "def one_plot(data):\n",
    "    plt.axis('off')\n",
    "    im = plt.imshow(data)\n",
    "    im.set_clim(0,1)\n",
    "\n",
    "def plotter(data):\n",
    "    n = int(min(4,np.sqrt(data.shape[0])))\n",
    "    _, axes = plt.subplots(n,n)\n",
    "    for ax, d in zip(axes.flatten(),data[:n*n,:,:]):\n",
    "        plt.axis('off')\n",
    "        im = ax.imshow(d)\n",
    "        im.set_clim(0,1)\n",
    "    plt.axis('off')\n",
    "\n",
    "    \n",
    "plotter(x[5:15])"
   ]
  },
  {
   "cell_type": "markdown",
   "metadata": {},
   "source": [
    "### Defining the Network\n",
    "\n",
    "Okay hold onto your opinions about why this won't work a little longer - let's make a neural net"
   ]
  },
  {
   "cell_type": "code",
   "execution_count": 20,
   "metadata": {
    "collapsed": true
   },
   "outputs": [],
   "source": [
    "model = Sequential()\n",
    "model.add(Conv2D(16,(3,3),activation='relu',input_shape=(5,5,1,)))\n",
    "model.add(Flatten())\n",
    "model.add(Dense(units=10,activation='relu'))\n",
    "model.add(Dense(units=1,activation='sigmoid'))\n",
    "model.compile(loss='binary_crossentropy',optimizer='adam')"
   ]
  },
  {
   "cell_type": "code",
   "execution_count": 21,
   "metadata": {},
   "outputs": [
    {
     "name": "stdout",
     "output_type": "stream",
     "text": [
      "Epoch 1/100\n",
      "20/20 [==============================] - 3s 165ms/step - loss: 0.6800\n",
      "Epoch 2/100\n",
      "20/20 [==============================] - 0s 252us/step - loss: 0.6768\n",
      "Epoch 3/100\n",
      "20/20 [==============================] - 0s 248us/step - loss: 0.6727\n",
      "Epoch 4/100\n",
      "20/20 [==============================] - 0s 194us/step - loss: 0.6685\n",
      "Epoch 5/100\n",
      "20/20 [==============================] - 0s 222us/step - loss: 0.6642\n",
      "Epoch 6/100\n",
      "20/20 [==============================] - 0s 179us/step - loss: 0.6599\n",
      "Epoch 7/100\n",
      "20/20 [==============================] - 0s 203us/step - loss: 0.6557\n",
      "Epoch 8/100\n",
      "20/20 [==============================] - 0s 317us/step - loss: 0.6516\n",
      "Epoch 9/100\n",
      "20/20 [==============================] - 0s 242us/step - loss: 0.6475\n",
      "Epoch 10/100\n",
      "20/20 [==============================] - 0s 184us/step - loss: 0.6431\n",
      "Epoch 11/100\n",
      "20/20 [==============================] - 0s 272us/step - loss: 0.6387\n",
      "Epoch 12/100\n",
      "20/20 [==============================] - 0s 349us/step - loss: 0.6341\n",
      "Epoch 13/100\n",
      "20/20 [==============================] - 0s 277us/step - loss: 0.6298\n",
      "Epoch 14/100\n",
      "20/20 [==============================] - 0s 212us/step - loss: 0.6253\n",
      "Epoch 15/100\n",
      "20/20 [==============================] - 0s 221us/step - loss: 0.6209\n",
      "Epoch 16/100\n",
      "20/20 [==============================] - 0s 208us/step - loss: 0.6162\n",
      "Epoch 17/100\n",
      "20/20 [==============================] - 0s 201us/step - loss: 0.6113\n",
      "Epoch 18/100\n",
      "20/20 [==============================] - 0s 182us/step - loss: 0.6063\n",
      "Epoch 19/100\n",
      "20/20 [==============================] - 0s 267us/step - loss: 0.6013\n",
      "Epoch 20/100\n",
      "20/20 [==============================] - 0s 223us/step - loss: 0.5964\n",
      "Epoch 21/100\n",
      "20/20 [==============================] - 0s 265us/step - loss: 0.5913\n",
      "Epoch 22/100\n",
      "20/20 [==============================] - 0s 198us/step - loss: 0.5861\n",
      "Epoch 23/100\n",
      "20/20 [==============================] - 0s 232us/step - loss: 0.5806\n",
      "Epoch 24/100\n",
      "20/20 [==============================] - 0s 247us/step - loss: 0.5750\n",
      "Epoch 25/100\n",
      "20/20 [==============================] - 0s 266us/step - loss: 0.5694\n",
      "Epoch 26/100\n",
      "20/20 [==============================] - 0s 232us/step - loss: 0.5636\n",
      "Epoch 27/100\n",
      "20/20 [==============================] - 0s 221us/step - loss: 0.5578\n",
      "Epoch 28/100\n",
      "20/20 [==============================] - 0s 206us/step - loss: 0.5518\n",
      "Epoch 29/100\n",
      "20/20 [==============================] - 0s 286us/step - loss: 0.5456\n",
      "Epoch 30/100\n",
      "20/20 [==============================] - 0s 211us/step - loss: 0.5392\n",
      "Epoch 31/100\n",
      "20/20 [==============================] - 0s 230us/step - loss: 0.5328\n",
      "Epoch 32/100\n",
      "20/20 [==============================] - 0s 190us/step - loss: 0.5262\n",
      "Epoch 33/100\n",
      "20/20 [==============================] - 0s 204us/step - loss: 0.5194\n",
      "Epoch 34/100\n",
      "20/20 [==============================] - 0s 246us/step - loss: 0.5124\n",
      "Epoch 35/100\n",
      "20/20 [==============================] - 0s 279us/step - loss: 0.5051\n",
      "Epoch 36/100\n",
      "20/20 [==============================] - 0s 245us/step - loss: 0.4978\n",
      "Epoch 37/100\n",
      "20/20 [==============================] - 0s 208us/step - loss: 0.4903\n",
      "Epoch 38/100\n",
      "20/20 [==============================] - 0s 238us/step - loss: 0.4826\n",
      "Epoch 39/100\n",
      "20/20 [==============================] - 0s 319us/step - loss: 0.4748\n",
      "Epoch 40/100\n",
      "20/20 [==============================] - 0s 225us/step - loss: 0.4668\n",
      "Epoch 41/100\n",
      "20/20 [==============================] - 0s 242us/step - loss: 0.4586\n",
      "Epoch 42/100\n",
      "20/20 [==============================] - 0s 243us/step - loss: 0.4501\n",
      "Epoch 43/100\n",
      "20/20 [==============================] - 0s 415us/step - loss: 0.4416\n",
      "Epoch 44/100\n",
      "20/20 [==============================] - 0s 228us/step - loss: 0.4329\n",
      "Epoch 45/100\n",
      "20/20 [==============================] - 0s 275us/step - loss: 0.4241\n",
      "Epoch 46/100\n",
      "20/20 [==============================] - 0s 250us/step - loss: 0.4152\n",
      "Epoch 47/100\n",
      "20/20 [==============================] - 0s 308us/step - loss: 0.4061\n",
      "Epoch 48/100\n",
      "20/20 [==============================] - 0s 234us/step - loss: 0.3969\n",
      "Epoch 49/100\n",
      "20/20 [==============================] - 0s 263us/step - loss: 0.3876\n",
      "Epoch 50/100\n",
      "20/20 [==============================] - 0s 230us/step - loss: 0.3782\n",
      "Epoch 51/100\n",
      "20/20 [==============================] - 0s 269us/step - loss: 0.3687\n",
      "Epoch 52/100\n",
      "20/20 [==============================] - 0s 226us/step - loss: 0.3592\n",
      "Epoch 53/100\n",
      "20/20 [==============================] - 0s 202us/step - loss: 0.3497\n",
      "Epoch 54/100\n",
      "20/20 [==============================] - 0s 239us/step - loss: 0.3401\n",
      "Epoch 55/100\n",
      "20/20 [==============================] - 0s 278us/step - loss: 0.3305\n",
      "Epoch 56/100\n",
      "20/20 [==============================] - 0s 229us/step - loss: 0.3209\n",
      "Epoch 57/100\n",
      "20/20 [==============================] - 0s 404us/step - loss: 0.3112\n",
      "Epoch 58/100\n",
      "20/20 [==============================] - 0s 288us/step - loss: 0.3016\n",
      "Epoch 59/100\n",
      "20/20 [==============================] - 0s 255us/step - loss: 0.2921\n",
      "Epoch 60/100\n",
      "20/20 [==============================] - 0s 176us/step - loss: 0.2826\n",
      "Epoch 61/100\n",
      "20/20 [==============================] - 0s 361us/step - loss: 0.2732\n",
      "Epoch 62/100\n",
      "20/20 [==============================] - 0s 388us/step - loss: 0.2640\n",
      "Epoch 63/100\n",
      "20/20 [==============================] - 0s 221us/step - loss: 0.2548\n",
      "Epoch 64/100\n",
      "20/20 [==============================] - 0s 232us/step - loss: 0.2457\n",
      "Epoch 65/100\n",
      "20/20 [==============================] - 0s 250us/step - loss: 0.2368\n",
      "Epoch 66/100\n",
      "20/20 [==============================] - 0s 186us/step - loss: 0.2281\n",
      "Epoch 67/100\n",
      "20/20 [==============================] - 0s 201us/step - loss: 0.2196\n",
      "Epoch 68/100\n",
      "20/20 [==============================] - 0s 273us/step - loss: 0.2113\n",
      "Epoch 69/100\n",
      "20/20 [==============================] - 0s 243us/step - loss: 0.2032\n",
      "Epoch 70/100\n",
      "20/20 [==============================] - 0s 282us/step - loss: 0.1953\n",
      "Epoch 71/100\n",
      "20/20 [==============================] - 0s 304us/step - loss: 0.1876\n",
      "Epoch 72/100\n",
      "20/20 [==============================] - 0s 344us/step - loss: 0.1801\n",
      "Epoch 73/100\n",
      "20/20 [==============================] - 0s 225us/step - loss: 0.1729\n",
      "Epoch 74/100\n",
      "20/20 [==============================] - 0s 351us/step - loss: 0.1660\n",
      "Epoch 75/100\n",
      "20/20 [==============================] - 0s 320us/step - loss: 0.1593\n",
      "Epoch 76/100\n",
      "20/20 [==============================] - 0s 220us/step - loss: 0.1528\n",
      "Epoch 77/100\n",
      "20/20 [==============================] - 0s 333us/step - loss: 0.1465\n",
      "Epoch 78/100\n",
      "20/20 [==============================] - 0s 234us/step - loss: 0.1405\n",
      "Epoch 79/100\n",
      "20/20 [==============================] - 0s 214us/step - loss: 0.1346\n",
      "Epoch 80/100\n",
      "20/20 [==============================] - 0s 237us/step - loss: 0.1291\n",
      "Epoch 81/100\n",
      "20/20 [==============================] - 0s 215us/step - loss: 0.1237\n",
      "Epoch 82/100\n",
      "20/20 [==============================] - 0s 337us/step - loss: 0.1185\n",
      "Epoch 83/100\n",
      "20/20 [==============================] - 0s 367us/step - loss: 0.1136\n",
      "Epoch 84/100\n",
      "20/20 [==============================] - 0s 456us/step - loss: 0.1089\n",
      "Epoch 85/100\n",
      "20/20 [==============================] - 0s 243us/step - loss: 0.1043\n",
      "Epoch 86/100\n",
      "20/20 [==============================] - 0s 276us/step - loss: 0.1000\n",
      "Epoch 87/100\n",
      "20/20 [==============================] - 0s 263us/step - loss: 0.0959\n",
      "Epoch 88/100\n",
      "20/20 [==============================] - 0s 185us/step - loss: 0.0919\n",
      "Epoch 89/100\n",
      "20/20 [==============================] - 0s 324us/step - loss: 0.0882\n",
      "Epoch 90/100\n",
      "20/20 [==============================] - 0s 310us/step - loss: 0.0846\n",
      "Epoch 91/100\n",
      "20/20 [==============================] - 0s 261us/step - loss: 0.0812\n",
      "Epoch 92/100\n",
      "20/20 [==============================] - 0s 356us/step - loss: 0.0779\n",
      "Epoch 93/100\n",
      "20/20 [==============================] - 0s 435us/step - loss: 0.0748\n",
      "Epoch 94/100\n",
      "20/20 [==============================] - 0s 293us/step - loss: 0.0718\n",
      "Epoch 95/100\n",
      "20/20 [==============================] - 0s 248us/step - loss: 0.0690\n",
      "Epoch 96/100\n",
      "20/20 [==============================] - 0s 331us/step - loss: 0.0663\n",
      "Epoch 97/100\n",
      "20/20 [==============================] - 0s 229us/step - loss: 0.0638\n",
      "Epoch 98/100\n",
      "20/20 [==============================] - 0s 194us/step - loss: 0.0613\n",
      "Epoch 99/100\n",
      "20/20 [==============================] - 0s 240us/step - loss: 0.0590\n"
     ]
    },
    {
     "name": "stdout",
     "output_type": "stream",
     "text": [
      "Epoch 100/100\n",
      "20/20 [==============================] - 0s 340us/step - loss: 0.0568\n"
     ]
    },
    {
     "data": {
      "text/plain": [
       "<keras.callbacks.History at 0x11ba2d668>"
      ]
     },
     "execution_count": 21,
     "metadata": {},
     "output_type": "execute_result"
    }
   ],
   "source": [
    "x_prep = np.expand_dims(x,axis=3)\n",
    "y_prep = np.expand_dims(y,axis=1)\n",
    "model.fit(x_prep,y_prep,epochs=100)"
   ]
  },
  {
   "cell_type": "code",
   "execution_count": 22,
   "metadata": {
    "collapsed": true
   },
   "outputs": [],
   "source": [
    "h = model.predict(x_prep)"
   ]
  },
  {
   "cell_type": "code",
   "execution_count": 23,
   "metadata": {},
   "outputs": [
    {
     "data": {
      "text/plain": [
       "[<matplotlib.lines.Line2D at 0x11bca44a8>]"
      ]
     },
     "execution_count": 23,
     "metadata": {},
     "output_type": "execute_result"
    },
    {
     "data": {
      "image/png": "[encoded data removed]",
      "text/plain": [
       "<Figure size 432x288 with 1 Axes>"
      ]
     },
     "metadata": {},
     "output_type": "display_data"
    }
   ],
   "source": [
    "plt.plot(range(len(y)),y)\n",
    "plt.plot(range(len(h)),h,color='r')"
   ]
  },
  {
   "cell_type": "markdown",
   "metadata": {},
   "source": [
    "### The Importance of understanding your data\n",
    "\n",
    "As an exercise I would like you now to get a perfect fit to the data.  Tip: you only need to change one number and re-run one cell."
   ]
  },
  {
   "cell_type": "markdown",
   "metadata": {},
   "source": [
    "## Does it generalize?\n",
    "\n",
    "Our goal was to make a square detector (we could redefine our goal as getting a perfect fit to our data, but that is not so interesting) so, does it detect squares?  Let's give it an example:"
   ]
  },
  {
   "cell_type": "code",
   "execution_count": 24,
   "metadata": {},
   "outputs": [
    {
     "data": {
      "image/png": "[encoded data removed]",
      "text/plain": [
       "<Figure size 432x288 with 1 Axes>"
      ]
     },
     "metadata": {},
     "output_type": "display_data"
    }
   ],
   "source": [
    "ex = np.ones_like(x[0])\n",
    "one_plot(ex)"
   ]
  },
  {
   "cell_type": "markdown",
   "metadata": {},
   "source": [
    "Square or not a square?  What do you think?  I guess we could argue that either way.  I want my detector to say not a square though (0)."
   ]
  },
  {
   "cell_type": "code",
   "execution_count": 25,
   "metadata": {},
   "outputs": [
    {
     "name": "stdout",
     "output_type": "stream",
     "text": [
      "[[ 0.05555356]]\n"
     ]
    }
   ],
   "source": [
    "ex_prep = np.expand_dims(ex,axis=3)\n",
    "ex_prep = np.expand_dims(ex_prep,axis=0)\n",
    "print(model.predict(ex_prep))"
   ]
  },
  {
   "cell_type": "markdown",
   "metadata": {},
   "source": [
    "Okay, not bad.  I have a theory though.  Let's try this one:"
   ]
  },
  {
   "cell_type": "code",
   "execution_count": 26,
   "metadata": {},
   "outputs": [
    {
     "data": {
      "image/png": "[encoded data removed]",
      "text/plain": [
       "<Figure size 432x288 with 1 Axes>"
      ]
     },
     "metadata": {},
     "output_type": "display_data"
    }
   ],
   "source": [
    "ex_2 = np.zeros_like(ex)\n",
    "ex_2[:2,:2] = 1.0\n",
    "ex_2_prep = np.expand_dims(ex_2, axis=3)\n",
    "ex_2_prep = np.expand_dims(ex_2_prep, axis=0)\n",
    "one_plot(ex_2)"
   ]
  },
  {
   "cell_type": "markdown",
   "metadata": {},
   "source": [
    "### Will it blend?"
   ]
  },
  {
   "cell_type": "code",
   "execution_count": 27,
   "metadata": {},
   "outputs": [
    {
     "name": "stdout",
     "output_type": "stream",
     "text": [
      "[[ 0.02746093]]\n"
     ]
    }
   ],
   "source": [
    "print(model.predict(ex_2_prep))"
   ]
  },
  {
   "cell_type": "markdown",
   "metadata": {},
   "source": [
    "That's pretty clear!!  \n",
    "\n",
    "## Exercises\n",
    "\n",
    "1. Try to comment out different layers in our conv net (`model`).  What happens as you comment out each one?  Does it still work without any of them?\n",
    "\n",
    "2. Add another fully connected layer (`Dense`) to the model.  Where should you add it?  What does it do?\n",
    "\n",
    "3.  Check out which other activation functions are available here: https://keras.io/activations/ .  Can you change the activation functions in any of the layers and still get good results?  Experiment!\n",
    "\n",
    "4. One problem here is that we have very little training data.  Modify the `make_data` function to return more training samples.\n",
    "\n",
    "5.  Another problem with the training data is that the squares are all in the same place, are all the same size and are all the same colour (luminosity).  Generate new training data with variations in square size, location and colour. \n",
    "\n"
   ]
  }
 ],
 "metadata": {
  "kernelspec": {
   "display_name": "Python 3",
   "language": "python",
   "name": "python3"
  },
  "language_info": {
   "codemirror_mode": {
    "name": "ipython",
    "version": 3
   },
   "file_extension": ".py",
   "mimetype": "text/x-python",
   "name": "python",
   "nbconvert_exporter": "python",
   "pygments_lexer": "ipython3",
   "version": "3.6.2"
  }
 },
 "nbformat": 4,
 "nbformat_minor": 2
}
