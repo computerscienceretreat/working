{
 "cells": [
  {
   "cell_type": "markdown",
   "metadata": {},
   "source": [
    "## Convolutional Neural Networks (CNNs)\n",
    "\n",
    "Now we'll introduce one of the most useful devices in computer vision."
   ]
  },
  {
   "cell_type": "code",
   "execution_count": 1,
   "metadata": {
    "collapsed": true
   },
   "outputs": [],
   "source": [
    "import numpy as np\n",
    "import matplotlib.pyplot as plt\n",
    "%matplotlib inline"
   ]
  },
  {
   "cell_type": "code",
   "execution_count": 2,
   "metadata": {},
   "outputs": [
    {
     "name": "stderr",
     "output_type": "stream",
     "text": [
      "Using TensorFlow backend.\n"
     ]
    }
   ],
   "source": [
    "from keras.models import Sequential\n",
    "from keras.layers import Dense, Conv2D, Flatten"
   ]
  },
  {
   "cell_type": "markdown",
   "metadata": {},
   "source": [
    "### Square Detector\n",
    "\n",
    "Let's start off with the by making some images of squares.  We'll explore some common data and algorithm related mistakes!  The sharp eyed amoungst you will notice the training data we're making is going to be terrible for making an algorithm that will generalize.  Don't panic - you'll be fixing this later!"
   ]
  },
  {
   "cell_type": "code",
   "execution_count": 3,
   "metadata": {
    "collapsed": true
   },
   "outputs": [],
   "source": [
    "def data_generator(shape,square=False):\n",
    "    data_array = np.zeros(shape)\n",
    "    for i in range(data_array.shape[0]):\n",
    "        data = np.zeros_like(data_array[i])\n",
    "        if square:\n",
    "            data[2:4,2:4] = 1.0\n",
    "        data = data + 0.2*np.random.rand(data.shape[0],data.shape[1])\n",
    "        data = np.clip(data,0.0,1.0)\n",
    "        data = data - 0.1*np.random.rand(data.shape[0],data.shape[1])\n",
    "        data = np.clip(data,0.0,1.0)\n",
    "        data_array[i] = data\n",
    "    return data_array\n",
    "\n",
    "def make_data():\n",
    "    x_background = data_generator((10,5,5))\n",
    "    x_square = data_generator((10,5,5),True)\n",
    "    y_square = np.ones(x_square.shape[0])\n",
    "    y_background = np.zeros(x_background.shape[0])\n",
    "    return np.vstack((x_square,x_background)), np.append(y_square,y_background)"
   ]
  },
  {
   "cell_type": "code",
   "execution_count": 4,
   "metadata": {},
   "outputs": [
    {
     "name": "stdout",
     "output_type": "stream",
     "text": [
      "(20, 5, 5) (20,)\n"
     ]
    }
   ],
   "source": [
    "x, y = make_data()\n",
    "print(x.shape, y.shape)"
   ]
  },
  {
   "cell_type": "markdown",
   "metadata": {},
   "source": [
    "###  Look at the data.\n",
    "\n",
    "First rule.  Always look at the data."
   ]
  },
  {
   "cell_type": "code",
   "execution_count": 5,
   "metadata": {},
   "outputs": [
    {
     "data": {
      "image/png": "[encoded data removed]",
      "text/plain": [
       "<Figure size 432x288 with 9 Axes>"
      ]
     },
     "metadata": {},
     "output_type": "display_data"
    }
   ],
   "source": [
    "def one_plot(data):\n",
    "    plt.axis('off')\n",
    "    im = plt.imshow(data)\n",
    "    im.set_clim(0,1)\n",
    "\n",
    "def plotter(data):\n",
    "    n = int(min(4,np.sqrt(data.shape[0])))\n",
    "    _, axes = plt.subplots(n,n)\n",
    "    for ax, d in zip(axes.flatten(),data[:n*n,:,:]):\n",
    "        plt.axis('off')\n",
    "        im = ax.imshow(d)\n",
    "        im.set_clim(0,1)\n",
    "    plt.axis('off')\n",
    "\n",
    "    \n",
    "plotter(x[5:15])"
   ]
  },
  {
   "cell_type": "markdown",
   "metadata": {},
   "source": [
    "### Defining the Network\n",
    "\n",
    "Okay hold onto your opinions about why this won't work a little longer - let's make a neural net"
   ]
  },
  {
   "cell_type": "code",
   "execution_count": 7,
   "metadata": {
    "collapsed": true
   },
   "outputs": [],
   "source": [
    "model = Sequential()\n",
    "model.add(Conv2D(16,(3,3),activation='relu',input_shape=(5,5,1,)))\n",
    "model.add(Flatten())\n",
    "model.add(Dense(units=10,activation='relu'))\n",
    "model.add(Dense(units=1,activation='sigmoid'))\n",
    "model.compile(loss='binary_crossentropy',optimizer='adam')"
   ]
  },
  {
   "cell_type": "code",
   "execution_count": 8,
   "metadata": {},
   "outputs": [
    {
     "name": "stdout",
     "output_type": "stream",
     "text": [
      "Epoch 1/100\n",
      "20/20 [==============================] - 2s 118ms/step - loss: 0.7071\n",
      "Epoch 2/100\n",
      "20/20 [==============================] - 0s 234us/step - loss: 0.7011\n",
      "Epoch 3/100\n",
      "20/20 [==============================] - 0s 210us/step - loss: 0.6943\n",
      "Epoch 4/100\n",
      "20/20 [==============================] - 0s 187us/step - loss: 0.6876\n",
      "Epoch 5/100\n",
      "20/20 [==============================] - 0s 206us/step - loss: 0.6810\n",
      "Epoch 6/100\n",
      "20/20 [==============================] - 0s 173us/step - loss: 0.6746\n",
      "Epoch 7/100\n",
      "20/20 [==============================] - 0s 208us/step - loss: 0.6680\n",
      "Epoch 8/100\n",
      "20/20 [==============================] - 0s 199us/step - loss: 0.6615\n",
      "Epoch 9/100\n",
      "20/20 [==============================] - 0s 289us/step - loss: 0.6549\n",
      "Epoch 10/100\n",
      "20/20 [==============================] - 0s 281us/step - loss: 0.6482\n",
      "Epoch 11/100\n",
      "20/20 [==============================] - 0s 205us/step - loss: 0.6416\n",
      "Epoch 12/100\n",
      "20/20 [==============================] - 0s 316us/step - loss: 0.6351\n",
      "Epoch 13/100\n",
      "20/20 [==============================] - 0s 357us/step - loss: 0.6285\n",
      "Epoch 14/100\n",
      "20/20 [==============================] - 0s 314us/step - loss: 0.6229\n",
      "Epoch 15/100\n",
      "20/20 [==============================] - 0s 203us/step - loss: 0.6174\n",
      "Epoch 16/100\n",
      "20/20 [==============================] - 0s 234us/step - loss: 0.6118\n",
      "Epoch 17/100\n",
      "20/20 [==============================] - 0s 211us/step - loss: 0.6063\n",
      "Epoch 18/100\n",
      "20/20 [==============================] - 0s 231us/step - loss: 0.6007\n",
      "Epoch 19/100\n",
      "20/20 [==============================] - 0s 201us/step - loss: 0.5950\n",
      "Epoch 20/100\n",
      "20/20 [==============================] - 0s 217us/step - loss: 0.5890\n",
      "Epoch 21/100\n",
      "20/20 [==============================] - 0s 228us/step - loss: 0.5830\n",
      "Epoch 22/100\n",
      "20/20 [==============================] - 0s 315us/step - loss: 0.5770\n",
      "Epoch 23/100\n",
      "20/20 [==============================] - 0s 188us/step - loss: 0.5709\n",
      "Epoch 24/100\n",
      "20/20 [==============================] - 0s 233us/step - loss: 0.5649\n",
      "Epoch 25/100\n",
      "20/20 [==============================] - 0s 203us/step - loss: 0.5587\n",
      "Epoch 26/100\n",
      "20/20 [==============================] - 0s 258us/step - loss: 0.5523\n",
      "Epoch 27/100\n",
      "20/20 [==============================] - 0s 223us/step - loss: 0.5460\n",
      "Epoch 28/100\n",
      "20/20 [==============================] - 0s 188us/step - loss: 0.5399\n",
      "Epoch 29/100\n",
      "20/20 [==============================] - 0s 296us/step - loss: 0.5335\n",
      "Epoch 30/100\n",
      "20/20 [==============================] - 0s 292us/step - loss: 0.5267\n",
      "Epoch 31/100\n",
      "20/20 [==============================] - 0s 449us/step - loss: 0.5197\n",
      "Epoch 32/100\n",
      "20/20 [==============================] - 0s 227us/step - loss: 0.5126\n",
      "Epoch 33/100\n",
      "20/20 [==============================] - 0s 186us/step - loss: 0.5053\n",
      "Epoch 34/100\n",
      "20/20 [==============================] - 0s 189us/step - loss: 0.4981\n",
      "Epoch 35/100\n",
      "20/20 [==============================] - 0s 229us/step - loss: 0.4910\n",
      "Epoch 36/100\n",
      "20/20 [==============================] - 0s 282us/step - loss: 0.4840\n",
      "Epoch 37/100\n",
      "20/20 [==============================] - 0s 283us/step - loss: 0.4767\n",
      "Epoch 38/100\n",
      "20/20 [==============================] - 0s 331us/step - loss: 0.4693\n",
      "Epoch 39/100\n",
      "20/20 [==============================] - 0s 226us/step - loss: 0.4619\n",
      "Epoch 40/100\n",
      "20/20 [==============================] - 0s 243us/step - loss: 0.4542\n",
      "Epoch 41/100\n",
      "20/20 [==============================] - 0s 290us/step - loss: 0.4464\n",
      "Epoch 42/100\n",
      "20/20 [==============================] - 0s 307us/step - loss: 0.4385\n",
      "Epoch 43/100\n",
      "20/20 [==============================] - 0s 218us/step - loss: 0.4304\n",
      "Epoch 44/100\n",
      "20/20 [==============================] - 0s 268us/step - loss: 0.4221\n",
      "Epoch 45/100\n",
      "20/20 [==============================] - 0s 311us/step - loss: 0.4140\n",
      "Epoch 46/100\n",
      "20/20 [==============================] - 0s 330us/step - loss: 0.4060\n",
      "Epoch 47/100\n",
      "20/20 [==============================] - 0s 244us/step - loss: 0.3980\n",
      "Epoch 48/100\n",
      "20/20 [==============================] - 0s 248us/step - loss: 0.3899\n",
      "Epoch 49/100\n",
      "20/20 [==============================] - 0s 225us/step - loss: 0.3818\n",
      "Epoch 50/100\n",
      "20/20 [==============================] - 0s 219us/step - loss: 0.3737\n",
      "Epoch 51/100\n",
      "20/20 [==============================] - 0s 179us/step - loss: 0.3655\n",
      "Epoch 52/100\n",
      "20/20 [==============================] - 0s 253us/step - loss: 0.3574\n",
      "Epoch 53/100\n",
      "20/20 [==============================] - 0s 207us/step - loss: 0.3492\n",
      "Epoch 54/100\n",
      "20/20 [==============================] - 0s 185us/step - loss: 0.3409\n",
      "Epoch 55/100\n",
      "20/20 [==============================] - 0s 348us/step - loss: 0.3327\n",
      "Epoch 56/100\n",
      "20/20 [==============================] - 0s 225us/step - loss: 0.3244\n",
      "Epoch 57/100\n",
      "20/20 [==============================] - 0s 269us/step - loss: 0.3161\n",
      "Epoch 58/100\n",
      "20/20 [==============================] - 0s 344us/step - loss: 0.3078\n",
      "Epoch 59/100\n",
      "20/20 [==============================] - 0s 355us/step - loss: 0.2995\n",
      "Epoch 60/100\n",
      "20/20 [==============================] - 0s 293us/step - loss: 0.2911\n",
      "Epoch 61/100\n",
      "20/20 [==============================] - 0s 222us/step - loss: 0.2829\n",
      "Epoch 62/100\n",
      "20/20 [==============================] - 0s 217us/step - loss: 0.2747\n",
      "Epoch 63/100\n",
      "20/20 [==============================] - 0s 232us/step - loss: 0.2666\n",
      "Epoch 64/100\n",
      "20/20 [==============================] - 0s 292us/step - loss: 0.2586\n",
      "Epoch 65/100\n",
      "20/20 [==============================] - 0s 234us/step - loss: 0.2507\n",
      "Epoch 66/100\n",
      "20/20 [==============================] - 0s 205us/step - loss: 0.2429\n",
      "Epoch 67/100\n",
      "20/20 [==============================] - 0s 263us/step - loss: 0.2352\n",
      "Epoch 68/100\n",
      "20/20 [==============================] - 0s 228us/step - loss: 0.2276\n",
      "Epoch 69/100\n",
      "20/20 [==============================] - 0s 411us/step - loss: 0.2201\n",
      "Epoch 70/100\n",
      "20/20 [==============================] - 0s 261us/step - loss: 0.2127\n",
      "Epoch 71/100\n",
      "20/20 [==============================] - 0s 291us/step - loss: 0.2054\n",
      "Epoch 72/100\n",
      "20/20 [==============================] - 0s 345us/step - loss: 0.1983\n",
      "Epoch 73/100\n",
      "20/20 [==============================] - 0s 178us/step - loss: 0.1913\n",
      "Epoch 74/100\n",
      "20/20 [==============================] - 0s 348us/step - loss: 0.1844\n",
      "Epoch 75/100\n",
      "20/20 [==============================] - 0s 362us/step - loss: 0.1777\n",
      "Epoch 76/100\n",
      "20/20 [==============================] - 0s 351us/step - loss: 0.1712\n",
      "Epoch 77/100\n",
      "20/20 [==============================] - 0s 226us/step - loss: 0.1648\n",
      "Epoch 78/100\n",
      "20/20 [==============================] - 0s 385us/step - loss: 0.1585\n",
      "Epoch 79/100\n",
      "20/20 [==============================] - 0s 446us/step - loss: 0.1525\n",
      "Epoch 80/100\n",
      "20/20 [==============================] - 0s 316us/step - loss: 0.1466\n",
      "Epoch 81/100\n",
      "20/20 [==============================] - 0s 256us/step - loss: 0.1408\n",
      "Epoch 82/100\n",
      "20/20 [==============================] - 0s 216us/step - loss: 0.1352\n",
      "Epoch 83/100\n",
      "20/20 [==============================] - 0s 204us/step - loss: 0.1298\n",
      "Epoch 84/100\n",
      "20/20 [==============================] - 0s 255us/step - loss: 0.1246\n",
      "Epoch 85/100\n",
      "20/20 [==============================] - 0s 258us/step - loss: 0.1195\n",
      "Epoch 86/100\n",
      "20/20 [==============================] - 0s 256us/step - loss: 0.1146\n",
      "Epoch 87/100\n",
      "20/20 [==============================] - 0s 286us/step - loss: 0.1099\n",
      "Epoch 88/100\n",
      "20/20 [==============================] - 0s 325us/step - loss: 0.1053\n",
      "Epoch 89/100\n",
      "20/20 [==============================] - 0s 237us/step - loss: 0.1009\n",
      "Epoch 90/100\n",
      "20/20 [==============================] - 0s 273us/step - loss: 0.0967\n",
      "Epoch 91/100\n",
      "20/20 [==============================] - 0s 230us/step - loss: 0.0927\n",
      "Epoch 92/100\n",
      "20/20 [==============================] - 0s 207us/step - loss: 0.0888\n",
      "Epoch 93/100\n",
      "20/20 [==============================] - 0s 226us/step - loss: 0.0851\n",
      "Epoch 94/100\n",
      "20/20 [==============================] - 0s 235us/step - loss: 0.0816\n",
      "Epoch 95/100\n",
      "20/20 [==============================] - 0s 276us/step - loss: 0.0782\n",
      "Epoch 96/100\n",
      "20/20 [==============================] - 0s 333us/step - loss: 0.0750\n",
      "Epoch 97/100\n",
      "20/20 [==============================] - 0s 258us/step - loss: 0.0719\n",
      "Epoch 98/100\n",
      "20/20 [==============================] - 0s 206us/step - loss: 0.0689\n",
      "Epoch 99/100\n",
      "20/20 [==============================] - 0s 203us/step - loss: 0.0661\n"
     ]
    },
    {
     "name": "stdout",
     "output_type": "stream",
     "text": [
      "Epoch 100/100\n",
      "20/20 [==============================] - 0s 281us/step - loss: 0.0635\n"
     ]
    },
    {
     "data": {
      "text/plain": [
       "<keras.callbacks.History at 0x11ab9af28>"
      ]
     },
     "execution_count": 8,
     "metadata": {},
     "output_type": "execute_result"
    }
   ],
   "source": [
    "x_prep = np.expand_dims(x,axis=3)\n",
    "y_prep = np.expand_dims(y,axis=1)\n",
    "model.fit(x_prep,y_prep,epochs=100)"
   ]
  },
  {
   "cell_type": "code",
   "execution_count": 9,
   "metadata": {
    "collapsed": true
   },
   "outputs": [],
   "source": [
    "h = model.predict(x_prep)"
   ]
  },
  {
   "cell_type": "code",
   "execution_count": 10,
   "metadata": {},
   "outputs": [
    {
     "data": {
      "text/plain": [
       "[<matplotlib.lines.Line2D at 0x117d49278>]"
      ]
     },
     "execution_count": 10,
     "metadata": {},
     "output_type": "execute_result"
    },
    {
     "data": {
      "image/png": "[encoded data removed]",
      "text/plain": [
       "<Figure size 432x288 with 1 Axes>"
      ]
     },
     "metadata": {},
     "output_type": "display_data"
    }
   ],
   "source": [
    "plt.plot(range(len(y)),y)\n",
    "plt.plot(range(len(h)),h,color='r')"
   ]
  },
  {
   "cell_type": "markdown",
   "metadata": {},
   "source": [
    "### The Importance of understanding your data\n",
    "\n",
    "As an exercise I would like you now to get a perfect fit to the data.  Tip: you only need to change one number and re-run one cell."
   ]
  },
  {
   "cell_type": "markdown",
   "metadata": {},
   "source": [
    "## Does it generalize?\n",
    "\n",
    "Our goal was to make a square detector (we could redefine our goal as getting a perfect fit to our data, but that is not so interesting) so, does it detect squares?  Let's give it an example:"
   ]
  },
  {
   "cell_type": "code",
   "execution_count": 11,
   "metadata": {},
   "outputs": [
    {
     "data": {
      "image/png": "[encoded data removed]",
      "text/plain": [
       "<Figure size 432x288 with 1 Axes>"
      ]
     },
     "metadata": {},
     "output_type": "display_data"
    }
   ],
   "source": [
    "ex = np.ones_like(x[0])\n",
    "one_plot(ex)"
   ]
  },
  {
   "cell_type": "markdown",
   "metadata": {},
   "source": [
    "Square or not a square?  What do you think?  I guess we could argue that either way.  I want my detector to say not a square though (0)."
   ]
  },
  {
   "cell_type": "code",
   "execution_count": 12,
   "metadata": {},
   "outputs": [
    {
     "name": "stdout",
     "output_type": "stream",
     "text": [
      "[[ 0.00603097]]\n"
     ]
    }
   ],
   "source": [
    "ex_prep = np.expand_dims(ex,axis=3)\n",
    "ex_prep = np.expand_dims(ex_prep,axis=0)\n",
    "print(model.predict(ex_prep))"
   ]
  },
  {
   "cell_type": "markdown",
   "metadata": {},
   "source": [
    "Okay, not bad.  I have a theory though.  Let's try this one:"
   ]
  },
  {
   "cell_type": "code",
   "execution_count": 13,
   "metadata": {},
   "outputs": [
    {
     "data": {
      "image/png": "[encoded data removed]",
      "text/plain": [
       "<Figure size 432x288 with 1 Axes>"
      ]
     },
     "metadata": {},
     "output_type": "display_data"
    }
   ],
   "source": [
    "ex_2 = np.zeros_like(ex)\n",
    "ex_2[:2,:2] = 1.0\n",
    "ex_2_prep = np.expand_dims(ex_2, axis=3)\n",
    "ex_2_prep = np.expand_dims(ex_2_prep, axis=0)\n",
    "one_plot(ex_2)"
   ]
  },
  {
   "cell_type": "markdown",
   "metadata": {},
   "source": [
    "### Will it blend?"
   ]
  },
  {
   "cell_type": "code",
   "execution_count": 14,
   "metadata": {},
   "outputs": [
    {
     "name": "stdout",
     "output_type": "stream",
     "text": [
      "[[ 0.03345672]]\n"
     ]
    }
   ],
   "source": [
    "print(model.predict(ex_2_prep))"
   ]
  },
  {
   "cell_type": "markdown",
   "metadata": {},
   "source": [
    "That's pretty clear!!  \n",
    "\n",
    "## Exercises\n",
    "\n",
    "1. Try to comment out different layers in our conv net (`model`).  What happens as you comment out each one?  Does it still work without any of them?\n",
    "\n",
    "2. Add another fully connected layer (`Dense`) to the model.  Where should you add it?  What does it do?\n",
    "\n",
    "3.  Check out which other activation functions are available here: https://keras.io/activations/ .  Can you change the activation functions in any of the layers and still get good results?  Experiment!\n",
    "\n",
    "4. One problem here is that we have very little training data.  Modify the `make_data` function to return more training samples.\n",
    "\n",
    "5.  Another problem with the training data is that the squares are all in the same place, are all the same size and are all the same colour (luminosity).  Generate new training data with variations in square size, location and colour. \n",
    "\n"
   ]
  }
 ],
 "metadata": {
  "kernelspec": {
   "display_name": "Python 3",
   "language": "python",
   "name": "python3"
  },
  "language_info": {
   "codemirror_mode": {
    "name": "ipython",
    "version": 3
   },
   "file_extension": ".py",
   "mimetype": "text/x-python",
   "name": "python",
   "nbconvert_exporter": "python",
   "pygments_lexer": "ipython3",
   "version": "3.6.2"
  }
 },
 "nbformat": 4,
 "nbformat_minor": 2
}
