{
 "cells": [
  {
   "cell_type": "code",
   "execution_count": 27,
   "metadata": {
    "collapsed": true
   },
   "outputs": [],
   "source": [
    "import numpy as np"
   ]
  },
  {
   "cell_type": "code",
   "execution_count": null,
   "metadata": {},
   "outputs": [],
   "source": [
    "f = lambda x: x**4\n",
    "f(2)"
   ]
  },
  {
   "cell_type": "code",
   "execution_count": null,
   "metadata": {},
   "outputs": [],
   "source": [
    "nums = [x for x in np.arange(100) if (x % 3 == 0) or (x % 5 == 0)]\n",
    "nums"
   ]
  },
  {
   "cell_type": "code",
   "execution_count": null,
   "metadata": {},
   "outputs": [],
   "source": [
    "print(list(filter(lambda x: not x%2,np.arange(20))))"
   ]
  },
  {
   "cell_type": "code",
   "execution_count": 28,
   "metadata": {
    "collapsed": true
   },
   "outputs": [],
   "source": [
    "from datetime import datetime\n",
    "import pandas as pd"
   ]
  },
  {
   "cell_type": "code",
   "execution_count": 29,
   "metadata": {},
   "outputs": [
    {
     "name": "stdout",
     "output_type": "stream",
     "text": [
      "2018-11-14 13:29:57.239621\n"
     ]
    }
   ],
   "source": [
    "now = datetime.now()\n",
    "print(now)"
   ]
  },
  {
   "cell_type": "code",
   "execution_count": 30,
   "metadata": {
    "collapsed": true
   },
   "outputs": [],
   "source": [
    "from datetime import timedelta\n",
    "interval = timedelta(days=1)"
   ]
  },
  {
   "cell_type": "code",
   "execution_count": 31,
   "metadata": {},
   "outputs": [
    {
     "name": "stdout",
     "output_type": "stream",
     "text": [
      "2018-11-01 00:00:00\n"
     ]
    }
   ],
   "source": [
    "start_day = datetime(year=now.year,month=now.month,day=1)\n",
    "print(start_day)"
   ]
  },
  {
   "cell_type": "code",
   "execution_count": 32,
   "metadata": {},
   "outputs": [
    {
     "name": "stdout",
     "output_type": "stream",
     "text": [
      "['11/01/18', '11/02/18', '11/03/18', '11/04/18', '11/05/18', '11/06/18', '11/07/18', '11/08/18', '11/09/18', '11/10/18']\n"
     ]
    }
   ],
   "source": [
    "days = start_day + np.arange(0,10)*interval\n",
    "print([d.strftime('%m/%d/%y') for d in days])"
   ]
  },
  {
   "cell_type": "code",
   "execution_count": 33,
   "metadata": {},
   "outputs": [
    {
     "name": "stdout",
     "output_type": "stream",
     "text": [
      "[datetime.datetime(2018, 11, 14, 13, 29, 57, 239621)\n",
      " datetime.datetime(2018, 11, 14, 13, 29, 56, 239621)\n",
      " datetime.datetime(2018, 11, 14, 13, 29, 55, 239621)\n",
      " datetime.datetime(2018, 11, 14, 13, 29, 54, 239621)\n",
      " datetime.datetime(2018, 11, 14, 13, 29, 53, 239621)\n",
      " datetime.datetime(2018, 11, 14, 13, 29, 52, 239621)\n",
      " datetime.datetime(2018, 11, 14, 13, 29, 51, 239621)\n",
      " datetime.datetime(2018, 11, 14, 13, 29, 50, 239621)\n",
      " datetime.datetime(2018, 11, 14, 13, 29, 49, 239621)\n",
      " datetime.datetime(2018, 11, 14, 13, 29, 48, 239621)]\n"
     ]
    }
   ],
   "source": [
    "previous_ten = now - np.arange(10)*timedelta(seconds=1)\n",
    "print(previous_ten)"
   ]
  },
  {
   "cell_type": "code",
   "execution_count": 34,
   "metadata": {},
   "outputs": [
    {
     "name": "stdout",
     "output_type": "stream",
     "text": [
      "[ 0.07610882  0.75866194  0.44955664  0.22126749  0.6090168   0.24948914\n",
      "  0.83661029  0.45053417  0.77615552  0.81144932]\n"
     ]
    }
   ],
   "source": [
    "rands = np.random.rand(10)\n",
    "print(rands)"
   ]
  },
  {
   "cell_type": "code",
   "execution_count": 35,
   "metadata": {},
   "outputs": [
    {
     "name": "stdout",
     "output_type": "stream",
     "text": [
      "2018-11-01    0.076109\n",
      "2018-11-02    0.758662\n",
      "2018-11-03    0.449557\n",
      "2018-11-04    0.221267\n",
      "2018-11-05    0.609017\n",
      "2018-11-06    0.249489\n",
      "2018-11-07    0.836610\n",
      "2018-11-08    0.450534\n",
      "2018-11-09    0.776156\n",
      "2018-11-10    0.811449\n",
      "dtype: float64\n"
     ]
    }
   ],
   "source": [
    "ts = pd.Series(rands,index=days)\n",
    "print(ts)"
   ]
  },
  {
   "cell_type": "code",
   "execution_count": 36,
   "metadata": {},
   "outputs": [
    {
     "data": {
      "text/plain": [
       "[<matplotlib.lines.Line2D at 0x10fcd1160>]"
      ]
     },
     "execution_count": 36,
     "metadata": {},
     "output_type": "execute_result"
    },
    {
     "data": {
      "image/png": "[encoded data removed]",
      "text/plain": [
       "<Figure size 432x288 with 1 Axes>"
      ]
     },
     "metadata": {},
     "output_type": "display_data"
    }
   ],
   "source": [
    "import matplotlib.pyplot as plt\n",
    "%matplotlib inline\n",
    "plt.plot(ts)"
   ]
  },
  {
   "cell_type": "code",
   "execution_count": 37,
   "metadata": {},
   "outputs": [
    {
     "name": "stdout",
     "output_type": "stream",
     "text": [
      "[datetime.datetime(2000, 1, 1, 0, 0), datetime.datetime(2001, 1, 1, 0, 0), datetime.datetime(2002, 1, 1, 0, 0), datetime.datetime(2003, 1, 1, 0, 0), datetime.datetime(2004, 1, 1, 0, 0), datetime.datetime(2005, 1, 1, 0, 0), datetime.datetime(2006, 1, 1, 0, 0), datetime.datetime(2007, 1, 1, 0, 0), datetime.datetime(2008, 1, 1, 0, 0), datetime.datetime(2009, 1, 1, 0, 0), datetime.datetime(2010, 1, 1, 0, 0), datetime.datetime(2011, 1, 1, 0, 0), datetime.datetime(2012, 1, 1, 0, 0), datetime.datetime(2013, 1, 1, 0, 0), datetime.datetime(2014, 1, 1, 0, 0), datetime.datetime(2015, 1, 1, 0, 0), datetime.datetime(2016, 1, 1, 0, 0), datetime.datetime(2017, 1, 1, 0, 0)]\n"
     ]
    }
   ],
   "source": [
    "years = [datetime(year=x,month=1,day=1) for x in np.arange(2000,2018)]\n",
    "print(years)"
   ]
  },
  {
   "cell_type": "code",
   "execution_count": 38,
   "metadata": {},
   "outputs": [
    {
     "name": "stdout",
     "output_type": "stream",
     "text": [
      "[4006004, 4010008, 4014014, 4018022, 4022032, 4026044, 4030058, 4034074, 4038092, 4042112, 4046134, 4050158, 4054184, 4058212, 4062242, 4066274, 4070308, 4074344]\n"
     ]
    }
   ],
   "source": [
    "values = [(y.year+2)**2 - y.year for y in years]\n",
    "print(values)"
   ]
  },
  {
   "cell_type": "code",
   "execution_count": 39,
   "metadata": {
    "collapsed": true
   },
   "outputs": [],
   "source": [
    "ts_years = pd.Series(values,index=years)"
   ]
  },
  {
   "cell_type": "code",
   "execution_count": 40,
   "metadata": {},
   "outputs": [
    {
     "data": {
      "text/plain": [
       "[<matplotlib.lines.Line2D at 0x10fdb3f28>]"
      ]
     },
     "execution_count": 40,
     "metadata": {},
     "output_type": "execute_result"
    },
    {
     "data": {
      "image/png": "[encoded data removed]",
      "text/plain": [
       "<Figure size 432x288 with 1 Axes>"
      ]
     },
     "metadata": {},
     "output_type": "display_data"
    }
   ],
   "source": [
    "plt.plot(values)"
   ]
  },
  {
   "cell_type": "code",
   "execution_count": null,
   "metadata": {
    "collapsed": true
   },
   "outputs": [],
   "source": []
  }
 ],
 "metadata": {
  "kernelspec": {
   "display_name": "Python 3",
   "language": "python",
   "name": "python3"
  },
  "language_info": {
   "codemirror_mode": {
    "name": "ipython",
    "version": 3
   },
   "file_extension": ".py",
   "mimetype": "text/x-python",
   "name": "python",
   "nbconvert_exporter": "python",
   "pygments_lexer": "ipython3",
   "version": "3.6.2"
  }
 },
 "nbformat": 4,
 "nbformat_minor": 2
}
