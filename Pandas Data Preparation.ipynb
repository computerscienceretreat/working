{
 "cells": [
  {
   "cell_type": "markdown",
   "metadata": {},
   "source": [
    "## Example data sets\n",
    "\n",
    "One of the great things about about working in the Scientific Python ecosystem is that nice things from the R world have been swallowed.  You can get access to all of the example datasets via the `pydataset` module."
   ]
  },
  {
   "cell_type": "code",
   "execution_count": 7,
   "metadata": {
    "collapsed": true
   },
   "outputs": [],
   "source": [
    "import pandas as pd\n",
    "import pydataset as R\n",
    "import matplotlib.pyplot as plt\n",
    "%matplotlib inline"
   ]
  },
  {
   "cell_type": "markdown",
   "metadata": {},
   "source": [
    "You will probably need to install this module so from the command line:\n",
    "\n",
    "$\\texttt{\\$ pip install pydataset}$ "
   ]
  },
  {
   "cell_type": "code",
   "execution_count": 8,
   "metadata": {},
   "outputs": [
    {
     "name": "stdout",
     "output_type": "stream",
     "text": [
      "            dataset_id                                                   title\n",
      "50                 npk                  Classical N, P, K Factorial Experiment\n",
      "51  occupationalStatus           Occupational Status of Fathers and their Sons\n",
      "52              precip                       Annual Precipitation in US Cities\n",
      "53          presidents             Quarterly Approval Ratings of US Presidents\n",
      "54            pressure  Vapor Pressure of Mercury as a Function of Temperature\n",
      "55              quakes                       Locations of Earthquakes off Fiji\n",
      "56               randu        Random Numbers from Congruential Generator RANDU\n",
      "57              rivers                  Lengths of Major North American Rivers\n",
      "58                rock                  Measurements on Petroleum Rock Samples\n",
      "59               sleep                                    Student's Sleep Data\n",
      "60           stackloss                        Brownlee's Stack Loss Plant Data\n"
     ]
    }
   ],
   "source": [
    "print(R.data().loc[50:60])"
   ]
  },
  {
   "cell_type": "code",
   "execution_count": 9,
   "metadata": {},
   "outputs": [
    {
     "name": "stdout",
     "output_type": "stream",
     "text": [
      "    Reaction  Days  Subject\n",
      "1   249.5600     0      308\n",
      "2   258.7047     1      308\n",
      "3   250.8006     2      308\n",
      "4   321.4398     3      308\n",
      "5   356.8519     4      308\n",
      "6   414.6901     5      308\n",
      "7   382.2038     6      308\n",
      "8   290.1486     7      308\n",
      "9   430.5853     8      308\n",
      "10  466.3535     9      308\n"
     ]
    }
   ],
   "source": [
    "sleep_study = R.data('sleepstudy')\n",
    "print(sleep_study.head(10))"
   ]
  },
  {
   "cell_type": "code",
   "execution_count": null,
   "metadata": {},
   "outputs": [],
   "source": [
    "sleep_study[sleep_study['Subject'] == 308].plot('Days','Reaction')"
   ]
  },
  {
   "cell_type": "code",
   "execution_count": null,
   "metadata": {
    "collapsed": true
   },
   "outputs": [],
   "source": []
  }
 ],
 "metadata": {
  "kernelspec": {
   "display_name": "Python 3",
   "language": "python",
   "name": "python3"
  },
  "language_info": {
   "codemirror_mode": {
    "name": "ipython",
    "version": 3
   },
   "file_extension": ".py",
   "mimetype": "text/x-python",
   "name": "python",
   "nbconvert_exporter": "python",
   "pygments_lexer": "ipython3",
   "version": "3.6.2"
  }
 },
 "nbformat": 4,
 "nbformat_minor": 2
}
