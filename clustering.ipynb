{
 "cells": [
  {
   "cell_type": "markdown",
   "metadata": {},
   "source": [
    "## Clustering\n",
    "\n",
    "This is an unsupervised learning method to find structures in data.  First let's demonstrate with some example data: "
   ]
  },
  {
   "cell_type": "code",
   "execution_count": null,
   "metadata": {
    "collapsed": true
   },
   "outputs": [],
   "source": [
    "import numpy as np\n",
    "import matplotlib.pyplot as plt\n",
    "%matplotlib inline"
   ]
  },
  {
   "cell_type": "code",
   "execution_count": null,
   "metadata": {
    "collapsed": true
   },
   "outputs": [],
   "source": [
    "from sklearn.datasets.samples_generator import make_blobs\n",
    "X, y = make_blobs(n_samples=100, centers=3, n_features=2, \n",
    "                  random_state=42)"
   ]
  },
  {
   "cell_type": "code",
   "execution_count": null,
   "metadata": {},
   "outputs": [],
   "source": [
    "# because matplotlib legend-making is faffy.\n",
    "import seaborn as sns\n",
    "sns.scatterplot(X[:,0],X[:,1],hue=y,palette=\"Dark2\");"
   ]
  },
  {
   "cell_type": "markdown",
   "metadata": {},
   "source": [
    "### K-Means Algorithm\n",
    "\n",
    "The algorithm goes as follows:\n",
    "1. Pick a value for K, the number of clusters to find\n",
    "2. Randomly generate K centers\n",
    "3. Loop through all the data points and assign them to the cluster they are closest to\n",
    "4. Update the cluster centers to be at the mean positions of the points in their clusters\n",
    "5. Repeat steps 3. and 4. until convergence"
   ]
  },
  {
   "cell_type": "code",
   "execution_count": null,
   "metadata": {},
   "outputs": [],
   "source": [
    "centers = np.array([[3,4],[0,0],[2,2]])\n",
    "h = np.zeros_like(y)\n",
    "sns.scatterplot(X[:,0],X[:,1],hue=h,palette=\"Dark2\")\n",
    "plt.scatter(centers[:,0],centers[:,1],color=\"r\",marker=\"x\");"
   ]
  },
  {
   "cell_type": "code",
   "execution_count": null,
   "metadata": {
    "collapsed": true
   },
   "outputs": [],
   "source": [
    "def distance(point, center):\n",
    "    return np.sum((point-center)**2)\n",
    "\n",
    "def get_cluster(point,centers):\n",
    "    distances = np.array([distance(point,x) for x in centers])\n",
    "    cluster_index = {distances[0]: 0, distances[1]: 1, distances[2]: 2}\n",
    "    min_distance = np.min(distances)\n",
    "    cluster = cluster_index[min_distance]\n",
    "    return cluster"
   ]
  },
  {
   "cell_type": "code",
   "execution_count": null,
   "metadata": {},
   "outputs": [],
   "source": [
    "h = np.array([get_cluster(x,centers) for x in X])\n",
    "\n",
    "sns.scatterplot(X[:,0],X[:,1],hue=h,palette=\"Dark2\")\n",
    "plt.scatter(centers[:,0],centers[:,1],color=\"r\",marker=\"x\");"
   ]
  },
  {
   "cell_type": "code",
   "execution_count": null,
   "metadata": {
    "collapsed": true
   },
   "outputs": [],
   "source": [
    "def update_centroids(data,labels):\n",
    "        centroids = np.array([[0,0],[0,0],[0,0]])\n",
    "        for i in range(3):\n",
    "            xs = 0.0\n",
    "            ys = 0.0\n",
    "            count = 0.0\n",
    "            for j in range(len(data)):\n",
    "                if labels[j] == i:\n",
    "                    count += 1.0\n",
    "                    xs += data[j,0]\n",
    "                    ys += data[j,1]\n",
    "                    \n",
    "            centroids[i] = np.array([xs/count,ys/count])\n",
    "            \n",
    "        return centroids"
   ]
  },
  {
   "cell_type": "code",
   "execution_count": null,
   "metadata": {},
   "outputs": [],
   "source": [
    "centers = update_centroids(X,h) \n",
    "sns.scatterplot(X[:,0],X[:,1],hue=h,palette=\"Dark2\")\n",
    "plt.scatter(centers[:,0],centers[:,1],color=\"r\",marker=\"x\");"
   ]
  },
  {
   "cell_type": "code",
   "execution_count": null,
   "metadata": {},
   "outputs": [],
   "source": [
    "h = np.array([get_cluster(x,centers) for x in X])\n",
    "\n",
    "sns.scatterplot(X[:,0],X[:,1],hue=h,palette=\"Dark2\")\n",
    "plt.scatter(centers[:,0],centers[:,1],color=\"r\",marker=\"x\");"
   ]
  },
  {
   "cell_type": "code",
   "execution_count": null,
   "metadata": {},
   "outputs": [],
   "source": [
    "centers = update_centroids(X,h) \n",
    "sns.scatterplot(X[:,0],X[:,1],hue=h,palette=\"Dark2\")\n",
    "plt.scatter(centers[:,0],centers[:,1],color=\"r\",marker=\"x\");"
   ]
  },
  {
   "cell_type": "markdown",
   "metadata": {
    "collapsed": true
   },
   "source": [
    "### K-Means Clustering with `scikit-learn`"
   ]
  },
  {
   "cell_type": "code",
   "execution_count": null,
   "metadata": {
    "scrolled": true
   },
   "outputs": [],
   "source": [
    "from sklearn.cluster import KMeans\n",
    "kmeans = KMeans().fit(X) # default is 8.\n",
    "h = kmeans.predict(X)\n",
    "sns.scatterplot(X[:,0],X[:,1],hue=h,palette=\"Dark2\");"
   ]
  },
  {
   "cell_type": "markdown",
   "metadata": {},
   "source": [
    "#### The *lagom* problem"
   ]
  },
  {
   "cell_type": "code",
   "execution_count": null,
   "metadata": {},
   "outputs": [],
   "source": [
    "kmeans = KMeans(3).fit(X)\n",
    "h = kmeans.predict(X)\n",
    "sns.scatterplot(X[:,0],X[:,1],hue=h,palette=\"Dark2\");"
   ]
  },
  {
   "cell_type": "code",
   "execution_count": null,
   "metadata": {},
   "outputs": [],
   "source": [
    "kmeans = KMeans(2).fit(X)\n",
    "h = kmeans.predict(X)\n",
    "sns.scatterplot(X[:,0],X[:,1],hue=h,palette=\"Dark2\");"
   ]
  },
  {
   "cell_type": "markdown",
   "metadata": {},
   "source": [
    "### Other Clustering Algorithms\n",
    "\n",
    "Affinity propagation is one option for when you don't know the number of clusters in advance.  It looks at the pairwise similarity of points to group them, choosing a few exemplers (like the cluster centroids) from the data set to represent all the data points:"
   ]
  },
  {
   "cell_type": "code",
   "execution_count": null,
   "metadata": {},
   "outputs": [],
   "source": [
    "from sklearn.cluster import AffinityPropagation\n",
    "af = AffinityPropagation().fit(X)\n",
    "h = af.predict(X)\n",
    "sns.scatterplot(X[:,0],X[:,1],hue=h,palette=\"Dark2\");"
   ]
  },
  {
   "cell_type": "markdown",
   "metadata": {},
   "source": [
    "*Danger Warning!* this looks at each pairing of data points so don't attempt with large amount of data (e.g. large images) on your laptop..."
   ]
  },
  {
   "cell_type": "markdown",
   "metadata": {},
   "source": [
    "For a list of available clustering algorithms see here: http://scikit-learn.org/stable/modules/clustering.html"
   ]
  },
  {
   "cell_type": "markdown",
   "metadata": {},
   "source": [
    "## Clustering with Image Data\n",
    "\n",
    "Let's look instead at image data, so first let's generate a grayscale image:"
   ]
  },
  {
   "cell_type": "code",
   "execution_count": null,
   "metadata": {
    "collapsed": true
   },
   "outputs": [],
   "source": [
    "def fake_image(image_size, n_samples):\n",
    "    gaus_x = np.random.normal(50,10,size=n_samples)\n",
    "    gaus_y = np.random.normal(25,5,size=n_samples)\n",
    "    density = np.zeros((image_size,image_size,3))\n",
    "\n",
    "    for i in range(n_samples):\n",
    "        density[np.int(gaus_x[i])][np.int(gaus_y[i])][:] += 1.0\n",
    "    \n",
    "    density /= density.max()\n",
    "    data = np.array(list(zip(gaus_x,gaus_y)))\n",
    "    return data, density"
   ]
  },
  {
   "cell_type": "code",
   "execution_count": null,
   "metadata": {},
   "outputs": [],
   "source": [
    "np.random.seed(42)\n",
    "image_size = 100\n",
    "n_samples = 100000\n",
    "\n",
    "data, im = fake_image(image_size,n_samples)\n",
    "\n",
    "plt.imshow(im);"
   ]
  },
  {
   "cell_type": "code",
   "execution_count": null,
   "metadata": {},
   "outputs": [],
   "source": [
    "model = KMeans(1).fit(data)\n",
    "test_points = []\n",
    "for i in range(100):\n",
    "    for j in range(100):\n",
    "        test_points.append([i,j])\n",
    "\n",
    "centers = model.cluster_centers_\n",
    "print(centers[0])\n",
    "\n",
    "plt.imshow(im)\n",
    "plt.scatter(centers[0][1],centers[0][0],marker='x',s=50,color='r');"
   ]
  },
  {
   "cell_type": "code",
   "execution_count": null,
   "metadata": {
    "collapsed": true
   },
   "outputs": [],
   "source": []
  }
 ],
 "metadata": {
  "kernelspec": {
   "display_name": "Python 3",
   "language": "python",
   "name": "python3"
  },
  "language_info": {
   "codemirror_mode": {
    "name": "ipython",
    "version": 3
   },
   "file_extension": ".py",
   "mimetype": "text/x-python",
   "name": "python",
   "nbconvert_exporter": "python",
   "pygments_lexer": "ipython3",
   "version": "3.6.2"
  }
 },
 "nbformat": 4,
 "nbformat_minor": 2
}
