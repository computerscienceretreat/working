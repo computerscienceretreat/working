{
 "cells": [
  {
   "cell_type": "markdown",
   "metadata": {},
   "source": [
    "## Let's make this much easier"
   ]
  },
  {
   "cell_type": "code",
   "execution_count": 2,
   "metadata": {},
   "outputs": [
    {
     "name": "stderr",
     "output_type": "stream",
     "text": [
      "Using TensorFlow backend.\n"
     ]
    }
   ],
   "source": [
    "import numpy as np\n",
    "import matplotlib.pyplot as plt\n",
    "%matplotlib inline\n",
    "\n",
    "import tensorflow as tf\n",
    "from keras.models import Sequential\n",
    "from keras.layers import Dense\n",
    "from keras import optimizers"
   ]
  },
  {
   "cell_type": "code",
   "execution_count": 3,
   "metadata": {
    "collapsed": true
   },
   "outputs": [],
   "source": [
    "def the_dataset():\n",
    "    inputs = np.arange(0,10)\n",
    "    np.random.seed(42)\n",
    "    offsets = np.random.rand(10)\n",
    "    ys = np.square((1+0.4*offsets)*(inputs-3))\n",
    "    return inputs, ys\n",
    "\n",
    "def make_plot_with_h(x,y,h):\n",
    "    plt.scatter(x,y)\n",
    "    plt.plot(x,h,color='r')"
   ]
  },
  {
   "cell_type": "code",
   "execution_count": 4,
   "metadata": {
    "collapsed": true
   },
   "outputs": [],
   "source": [
    "model = Sequential()\n",
    "model.add(Dense(units=10,activation='relu',input_dim=1))\n",
    "model.add(Dense(units=10,activation='relu'))\n",
    "model.add(Dense(units=1,activation='linear'))\n",
    "adam = optimizers.Adam(lr=0.01)\n",
    "model.compile(loss='mean_squared_error', optimizer=adam)"
   ]
  },
  {
   "cell_type": "code",
   "execution_count": 5,
   "metadata": {
    "collapsed": true
   },
   "outputs": [],
   "source": [
    "# add the biases to x\n",
    "x, y = the_dataset()"
   ]
  },
  {
   "cell_type": "code",
   "execution_count": 6,
   "metadata": {},
   "outputs": [
    {
     "name": "stdout",
     "output_type": "stream",
     "text": [
      "Epoch 1/10\n",
      "10/10 [==============================] - 8s 778ms/step - loss: 589.7054\n",
      "Epoch 2/10\n",
      "10/10 [==============================] - 0s 336us/step - loss: 582.7237\n",
      "Epoch 3/10\n",
      "10/10 [==============================] - 0s 404us/step - loss: 575.4833\n",
      "Epoch 4/10\n",
      "10/10 [==============================] - 0s 264us/step - loss: 568.0038\n",
      "Epoch 5/10\n",
      "10/10 [==============================] - 0s 235us/step - loss: 560.2821\n",
      "Epoch 6/10\n",
      "10/10 [==============================] - 0s 374us/step - loss: 552.3820\n",
      "Epoch 7/10\n",
      "10/10 [==============================] - 0s 434us/step - loss: 544.3250\n",
      "Epoch 8/10\n",
      "10/10 [==============================] - 0s 454us/step - loss: 535.9174\n",
      "Epoch 9/10\n",
      "10/10 [==============================] - 0s 305us/step - loss: 527.1515\n",
      "Epoch 10/10\n",
      "10/10 [==============================] - 0s 526us/step - loss: 518.0272\n"
     ]
    },
    {
     "data": {
      "text/plain": [
       "<keras.callbacks.History at 0x11b59c128>"
      ]
     },
     "execution_count": 6,
     "metadata": {},
     "output_type": "execute_result"
    }
   ],
   "source": [
    "model.fit(x,y,epochs=10)"
   ]
  },
  {
   "cell_type": "code",
   "execution_count": 7,
   "metadata": {},
   "outputs": [
    {
     "name": "stdout",
     "output_type": "stream",
     "text": [
      "[[ 0.39362675]]\n"
     ]
    },
    {
     "data": {
      "image/png": "[encoded data removed]",
      "text/plain": [
       "<Figure size 432x288 with 1 Axes>"
      ]
     },
     "metadata": {},
     "output_type": "display_data"
    }
   ],
   "source": [
    "h = model.predict(x)\n",
    "make_plot_with_h(x,y,h)\n",
    "\n",
    "intercept = model.predict(np.array([0]))\n",
    "print(intercept)"
   ]
  },
  {
   "cell_type": "markdown",
   "metadata": {},
   "source": [
    "### Student Exercises!!!!\n",
    "\n",
    "Because I'm boring when I run code in front of you and it works.  Let's break it instead.\n",
    "\n",
    "1. Get this code running on your machine.  You'll need to install Tensorflow and Keras, give me a shout if you have trouble.\n",
    "2. Investigate changing the learning rate, what happens?\n",
    "3. Try changing the activation function (which layer?) to sigmoid and see what happens.\n",
    "4. Add one more hidden layer - where should you add it?"
   ]
  },
  {
   "cell_type": "code",
   "execution_count": 16,
   "metadata": {},
   "outputs": [
    {
     "name": "stdout",
     "output_type": "stream",
     "text": [
      "[array([[ 0.8221184 ,  0.75773293,  0.83748192,  0.92621017,  0.84884691,\n",
      "        -1.13088286,  0.78642726, -0.6687218 ,  2.55098343,  1.04905176]], dtype=float32), array([-6.84558249, -4.36995173, -6.94712496, -7.65766573, -7.01604366,\n",
      "        2.98450351, -6.48506689,  5.55444336, -3.5334878 , -8.79539871], dtype=float32)]\n",
      "[array([[ 4.82220888,  1.91584396,  2.32268357,  2.33643508, -1.20856333,\n",
      "        -1.27753174, -0.54243255,  2.86544204,  2.00333428,  2.26288128],\n",
      "       [-2.01333976,  3.55291557, -0.07180104,  3.26196742, -3.93694544,\n",
      "        -4.42080927, -0.57441992,  2.97631431,  2.3055141 ,  0.61191905],\n",
      "       [ 4.60569239,  2.82719946,  2.99850774,  3.07258296, -1.84578824,\n",
      "        -1.43867576, -0.33247152,  2.19652915,  2.41146469,  1.84439564],\n",
      "       [ 5.35484362,  2.75105929,  2.86048865,  2.48778892, -1.73108923,\n",
      "        -1.76325381, -0.2988719 ,  3.12024522,  1.73592055,  1.93166292],\n",
      "       [ 4.24179697,  2.73252511,  2.546731  ,  2.74577236, -1.77097249,\n",
      "        -1.7330035 , -0.16436981,  2.17114925,  1.30976069,  2.38156509],\n",
      "       [-2.75355434, -3.39412308,  5.21780109, -2.6675036 , -4.16493034,\n",
      "         3.86793804, -1.06371415, -3.4301548 , -1.04515862, -1.54300356],\n",
      "       [ 4.60240412,  3.25772548,  3.03915787,  3.53579998, -2.15767264,\n",
      "        -1.4769001 , -0.77499205,  2.95601153,  2.37273335,  2.26841497],\n",
      "       [-7.23616028, -3.64639473, -3.0705986 , -3.89727902,  0.22157647,\n",
      "         2.87963438, -1.41903746, -3.48528481, -1.81180871, -4.86199713],\n",
      "       [-6.25154543, -1.38555908, -7.50965023, -1.27203333,  5.06106806,\n",
      "        -1.31935287, -1.42704558, -1.02550089, -1.68031096, -3.76373577],\n",
      "       [ 5.18213081,  2.13690066,  3.4467988 ,  2.36536264, -1.07378268,\n",
      "        -1.89382207, -0.49451703,  2.49907565,  1.513551  ,  2.21257067]], dtype=float32), array([-3.63967371, -1.03218067,  0.3423152 , -0.9576847 , -0.82440668,\n",
      "       -0.43940285, -0.54611117, -1.11936414,  0.30663368, -0.77924484], dtype=float32)]\n",
      "[array([[ 7.87924385],\n",
      "       [ 7.22066498],\n",
      "       [ 8.55458546],\n",
      "       [ 7.12578964],\n",
      "       [-3.95725346],\n",
      "       [-2.48256683],\n",
      "       [-0.00971311],\n",
      "       [ 7.11860561],\n",
      "       [ 7.71019173],\n",
      "       [ 7.99180937]], dtype=float32), array([ 6.0487566], dtype=float32)]\n"
     ]
    }
   ],
   "source": [
    "for layer in model.layers:\n",
    "    print(layer.get_weights())\n"
   ]
  },
  {
   "cell_type": "code",
   "execution_count": null,
   "metadata": {
    "collapsed": true
   },
   "outputs": [],
   "source": []
  }
 ],
 "metadata": {
  "kernelspec": {
   "display_name": "Python 3",
   "language": "python",
   "name": "python3"
  },
  "language_info": {
   "codemirror_mode": {
    "name": "ipython",
    "version": 3
   },
   "file_extension": ".py",
   "mimetype": "text/x-python",
   "name": "python",
   "nbconvert_exporter": "python",
   "pygments_lexer": "ipython3",
   "version": "3.6.2"
  }
 },
 "nbformat": 4,
 "nbformat_minor": 2
}
