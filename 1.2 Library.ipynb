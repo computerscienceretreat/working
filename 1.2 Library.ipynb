{
 "cells": [
  {
   "cell_type": "markdown",
   "metadata": {},
   "source": [
    "## Let's make this much easier"
   ]
  },
  {
   "cell_type": "code",
   "execution_count": null,
   "metadata": {},
   "outputs": [],
   "source": [
    "import numpy as np\n",
    "import matplotlib.pyplot as plt\n",
    "%matplotlib inline\n",
    "\n",
    "import tensorflow as tf\n",
    "from keras.models import Sequential\n",
    "from keras.layers import Dense\n",
    "from keras import optimizers"
   ]
  },
  {
   "cell_type": "code",
   "execution_count": null,
   "metadata": {
    "collapsed": true
   },
   "outputs": [],
   "source": [
    "def the_dataset():\n",
    "    inputs = np.arange(0,10)\n",
    "    np.random.seed(42)\n",
    "    offsets = np.random.rand(10)\n",
    "    ys = np.square((1+0.4*offsets)*(inputs-3))\n",
    "    return inputs, ys\n",
    "\n",
    "def make_plot_with_h(x,y,h):\n",
    "    plt.scatter(x,y)\n",
    "    plt.plot(x,h,color='r')"
   ]
  },
  {
   "cell_type": "code",
   "execution_count": null,
   "metadata": {
    "collapsed": true
   },
   "outputs": [],
   "source": [
    "model = Sequential()\n",
    "model.add(Dense(units=10,activation='relu',input_dim=1))\n",
    "model.add(Dense(units=10,activation='relu'))\n",
    "model.add(Dense(units=1,activation='linear'))\n",
    "adam = optimizers.Adam(lr=0.01)\n",
    "model.compile(loss='mean_squared_error', optimizer=adam)"
   ]
  },
  {
   "cell_type": "code",
   "execution_count": null,
   "metadata": {
    "collapsed": true
   },
   "outputs": [],
   "source": [
    "# add the biases to x\n",
    "x, y = the_dataset()"
   ]
  },
  {
   "cell_type": "code",
   "execution_count": null,
   "metadata": {},
   "outputs": [],
   "source": [
    "model.fit(x,y,epochs=10)"
   ]
  },
  {
   "cell_type": "code",
   "execution_count": null,
   "metadata": {},
   "outputs": [],
   "source": [
    "h = model.predict(x)\n",
    "make_plot_with_h(x,y,h)\n",
    "\n",
    "intercept = model.predict(np.array([0]))\n",
    "print(intercept)"
   ]
  },
  {
   "cell_type": "markdown",
   "metadata": {},
   "source": [
    "### Student Exercises!!!!\n",
    "\n",
    "Because I'm boring when I run code in front of you and it works.  Let's break it instead.\n",
    "\n",
    "1. Change the number of epochs so you get a reasonable fit to the data.\n",
    "2. Investigate changing the learning rate, what happens?\n",
    "3. Try changing the activation function (which layer?) to sigmoid and see what happens.\n",
    "4. Add one more hidden layer - where should you add it?\n",
    "5. Get this code running on your machine.  You'll need to install Tensorflow and Keras, give me us shout if you have trouble."
   ]
  }
 ],
 "metadata": {
  "kernelspec": {
   "display_name": "Python 3",
   "language": "python",
   "name": "python3"
  },
  "language_info": {
   "codemirror_mode": {
    "name": "ipython",
    "version": 3
   },
   "file_extension": ".py",
   "mimetype": "text/x-python",
   "name": "python",
   "nbconvert_exporter": "python",
   "pygments_lexer": "ipython3",
   "version": "3.6.2"
  }
 },
 "nbformat": 4,
 "nbformat_minor": 2
}
