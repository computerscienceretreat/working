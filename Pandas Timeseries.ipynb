{
 "cells": [
  {
   "cell_type": "markdown",
   "metadata": {},
   "source": [
    "## Timeseries with `pandas`"
   ]
  },
  {
   "cell_type": "markdown",
   "metadata": {},
   "source": [
    "One useful application it to deal with time series data, since you generally end up with a mixed format with datetime and some other data type such as integer or floating point."
   ]
  },
  {
   "cell_type": "code",
   "execution_count": 1,
   "metadata": {
    "collapsed": true
   },
   "outputs": [],
   "source": [
    "import pandas as pd\n",
    "import numpy as np"
   ]
  },
  {
   "cell_type": "markdown",
   "metadata": {},
   "source": [
    "Let's assume we want something more descriptive than a UNIX timestamp, how do we do it?"
   ]
  },
  {
   "cell_type": "code",
   "execution_count": 2,
   "metadata": {
    "collapsed": true
   },
   "outputs": [],
   "source": [
    "from datetime import datetime"
   ]
  },
  {
   "cell_type": "code",
   "execution_count": 3,
   "metadata": {
    "collapsed": true
   },
   "outputs": [],
   "source": [
    "now = datetime.now()"
   ]
  },
  {
   "cell_type": "code",
   "execution_count": 4,
   "metadata": {},
   "outputs": [
    {
     "name": "stdout",
     "output_type": "stream",
     "text": [
      "2018-11-14 11:22:23.375303\n"
     ]
    }
   ],
   "source": [
    "print(now)"
   ]
  },
  {
   "cell_type": "code",
   "execution_count": 5,
   "metadata": {},
   "outputs": [
    {
     "name": "stdout",
     "output_type": "stream",
     "text": [
      "11 14 22\n"
     ]
    }
   ],
   "source": [
    "print(now.month, now.day, now.minute)"
   ]
  },
  {
   "cell_type": "markdown",
   "metadata": {},
   "source": [
    "#### Formatting time"
   ]
  },
  {
   "cell_type": "code",
   "execution_count": 7,
   "metadata": {
    "collapsed": true
   },
   "outputs": [],
   "source": [
    "formatted = now.strftime('%Y-%m-%d')"
   ]
  },
  {
   "cell_type": "code",
   "execution_count": 8,
   "metadata": {},
   "outputs": [
    {
     "name": "stdout",
     "output_type": "stream",
     "text": [
      "2018-11-14\n"
     ]
    }
   ],
   "source": [
    "print(formatted)"
   ]
  },
  {
   "cell_type": "markdown",
   "metadata": {},
   "source": [
    "### `pandas` Series indexed by timestamps"
   ]
  },
  {
   "cell_type": "markdown",
   "metadata": {},
   "source": [
    "Let's do some advanced futurism."
   ]
  },
  {
   "cell_type": "code",
   "execution_count": 9,
   "metadata": {
    "collapsed": true
   },
   "outputs": [],
   "source": [
    "from datetime import timedelta\n",
    "interval = timedelta(days=1)"
   ]
  },
  {
   "cell_type": "markdown",
   "metadata": {},
   "source": [
    "TIP: you can specify time units implicitely using the ordering, but don't."
   ]
  },
  {
   "cell_type": "code",
   "execution_count": 10,
   "metadata": {},
   "outputs": [
    {
     "name": "stdout",
     "output_type": "stream",
     "text": [
      "1 day, 0:00:00\n"
     ]
    }
   ],
   "source": [
    "print(interval)"
   ]
  },
  {
   "cell_type": "code",
   "execution_count": 15,
   "metadata": {},
   "outputs": [
    {
     "name": "stdout",
     "output_type": "stream",
     "text": [
      "[datetime.datetime(2018, 11, 15, 11, 22, 23, 375303)\n",
      " datetime.datetime(2018, 11, 16, 11, 22, 23, 375303)\n",
      " datetime.datetime(2018, 11, 17, 11, 22, 23, 375303)\n",
      " datetime.datetime(2018, 11, 18, 11, 22, 23, 375303)\n",
      " datetime.datetime(2018, 11, 19, 11, 22, 23, 375303)\n",
      " datetime.datetime(2018, 11, 20, 11, 22, 23, 375303)\n",
      " datetime.datetime(2018, 11, 21, 11, 22, 23, 375303)\n",
      " datetime.datetime(2018, 11, 22, 11, 22, 23, 375303)\n",
      " datetime.datetime(2018, 11, 23, 11, 22, 23, 375303)]\n"
     ]
    }
   ],
   "source": [
    "times = now + np.arange(1,10)*interval\n",
    "print(times)"
   ]
  },
  {
   "cell_type": "code",
   "execution_count": 16,
   "metadata": {
    "collapsed": true
   },
   "outputs": [],
   "source": [
    "predictions = np.random.rand(len(times))"
   ]
  },
  {
   "cell_type": "code",
   "execution_count": 17,
   "metadata": {},
   "outputs": [
    {
     "name": "stdout",
     "output_type": "stream",
     "text": [
      "[ 0.84694668  0.96994249  0.13741961  0.83138988  0.00106873  0.29955954\n",
      "  0.64700211  0.39734047  0.52573096]\n"
     ]
    }
   ],
   "source": [
    "print(predictions)"
   ]
  },
  {
   "cell_type": "code",
   "execution_count": 18,
   "metadata": {},
   "outputs": [
    {
     "name": "stdout",
     "output_type": "stream",
     "text": [
      "2018-11-15 11:22:23.375303    0.846947\n",
      "2018-11-16 11:22:23.375303    0.969942\n",
      "2018-11-17 11:22:23.375303    0.137420\n",
      "2018-11-18 11:22:23.375303    0.831390\n",
      "2018-11-19 11:22:23.375303    0.001069\n",
      "2018-11-20 11:22:23.375303    0.299560\n",
      "2018-11-21 11:22:23.375303    0.647002\n",
      "2018-11-22 11:22:23.375303    0.397340\n",
      "2018-11-23 11:22:23.375303    0.525731\n",
      "dtype: float64\n"
     ]
    }
   ],
   "source": [
    "the_future = pd.Series(predictions, index=times)\n",
    "print(the_future)"
   ]
  },
  {
   "cell_type": "markdown",
   "metadata": {},
   "source": [
    "You can do indexing/subsetting *etc.* in the same way as you would to a numpy array - you can use an integer to specify the place in the series. "
   ]
  },
  {
   "cell_type": "code",
   "execution_count": 19,
   "metadata": {},
   "outputs": [
    {
     "name": "stdout",
     "output_type": "stream",
     "text": [
      "2018-11-15 11:22:23.375303    0.846947\n",
      "2018-11-16 11:22:23.375303    0.969942\n",
      "2018-11-17 11:22:23.375303    0.137420\n",
      "2018-11-18 11:22:23.375303    0.831390\n",
      "2018-11-19 11:22:23.375303    0.001069\n",
      "2018-11-20 11:22:23.375303    0.299560\n",
      "2018-11-21 11:22:23.375303    0.647002\n",
      "2018-11-22 11:22:23.375303    0.397340\n",
      "2018-11-23 11:22:23.375303    0.525731\n",
      "dtype: float64\n"
     ]
    }
   ],
   "source": [
    "print(the_future[:])"
   ]
  },
  {
   "cell_type": "code",
   "execution_count": 20,
   "metadata": {},
   "outputs": [
    {
     "name": "stdout",
     "output_type": "stream",
     "text": [
      "0.846946684003\n"
     ]
    }
   ],
   "source": [
    "print(the_future[0])"
   ]
  },
  {
   "cell_type": "markdown",
   "metadata": {},
   "source": [
    "Alternatively, you can use the keys:"
   ]
  },
  {
   "cell_type": "code",
   "execution_count": 21,
   "metadata": {},
   "outputs": [
    {
     "name": "stdout",
     "output_type": "stream",
     "text": [
      "0.846946684003\n"
     ]
    }
   ],
   "source": [
    "print(the_future[times[0]])"
   ]
  },
  {
   "cell_type": "markdown",
   "metadata": {},
   "source": [
    "We can also use date ranges:"
   ]
  },
  {
   "cell_type": "code",
   "execution_count": 23,
   "metadata": {
    "collapsed": true
   },
   "outputs": [],
   "source": [
    "some_range = pd.date_range(times[0], times[2], freq='D')"
   ]
  },
  {
   "cell_type": "code",
   "execution_count": 24,
   "metadata": {},
   "outputs": [
    {
     "name": "stdout",
     "output_type": "stream",
     "text": [
      "DatetimeIndex(['2018-11-15 11:22:23.375303', '2018-11-16 11:22:23.375303',\n",
      "               '2018-11-17 11:22:23.375303'],\n",
      "              dtype='datetime64[ns]', freq='D')\n"
     ]
    }
   ],
   "source": [
    "print(some_range)"
   ]
  },
  {
   "cell_type": "markdown",
   "metadata": {},
   "source": [
    "### Plotting"
   ]
  },
  {
   "cell_type": "code",
   "execution_count": 25,
   "metadata": {
    "collapsed": true
   },
   "outputs": [],
   "source": [
    "import matplotlib.pyplot as plt\n",
    "%matplotlib inline"
   ]
  },
  {
   "cell_type": "code",
   "execution_count": 26,
   "metadata": {},
   "outputs": [
    {
     "data": {
      "image/png": "[encoded data removed]",
      "text/plain": [
       "<Figure size 432x288 with 1 Axes>"
      ]
     },
     "metadata": {},
     "output_type": "display_data"
    }
   ],
   "source": [
    "plt.plot(the_future);"
   ]
  },
  {
   "cell_type": "markdown",
   "metadata": {},
   "source": [
    "Pretty ugly.  First let's sort out those axis labels..."
   ]
  },
  {
   "cell_type": "code",
   "execution_count": 27,
   "metadata": {},
   "outputs": [
    {
     "data": {
      "image/png": "[encoded data removed]",
      "text/plain": [
       "<Figure size 432x288 with 1 Axes>"
      ]
     },
     "metadata": {},
     "output_type": "display_data"
    }
   ],
   "source": [
    "plt.xticks(rotation=60)\n",
    "plt.plot(the_future);"
   ]
  },
  {
   "cell_type": "markdown",
   "metadata": {},
   "source": [
    "Surprisingly this just looks like a load of random noise.  Probably it would look better if we make our predictions less fine grained (in case it is not clear, never go about analyzing your data like this...)"
   ]
  },
  {
   "cell_type": "code",
   "execution_count": 28,
   "metadata": {},
   "outputs": [
    {
     "name": "stdout",
     "output_type": "stream",
     "text": [
      "2018-11-15 11:22:23.375303    0.908445\n",
      "2018-11-17 11:22:23.375303    0.484405\n",
      "2018-11-19 11:22:23.375303    0.150314\n",
      "2018-11-21 11:22:23.375303    0.522171\n",
      "2018-11-23 11:22:23.375303    0.525731\n",
      "Freq: 2D, dtype: float64\n"
     ]
    }
   ],
   "source": [
    "the_future_2day = the_future.resample('2D').mean()\n",
    "print(the_future_2day)"
   ]
  },
  {
   "cell_type": "code",
   "execution_count": 29,
   "metadata": {},
   "outputs": [
    {
     "data": {
      "image/png": "[encoded data removed]",
      "text/plain": [
       "<Figure size 432x288 with 1 Axes>"
      ]
     },
     "metadata": {},
     "output_type": "display_data"
    }
   ],
   "source": [
    "plt.xticks(rotation=60)\n",
    "plt.plot(the_future_2day);"
   ]
  },
  {
   "cell_type": "markdown",
   "metadata": {},
   "source": [
    "We're doing silly things to made up data.  Still I would argue this plot is misleading compared to the last one, why?\n",
    "\n",
    "Let's fix it."
   ]
  },
  {
   "cell_type": "code",
   "execution_count": 30,
   "metadata": {},
   "outputs": [
    {
     "data": {
      "image/png": "[encoded data removed]",
      "text/plain": [
       "<Figure size 432x288 with 1 Axes>"
      ]
     },
     "metadata": {},
     "output_type": "display_data"
    }
   ],
   "source": [
    "plt.xticks(rotation=60)\n",
    "plt.ylim((0,1))\n",
    "plt.plot(the_future_2day);"
   ]
  },
  {
   "cell_type": "code",
   "execution_count": null,
   "metadata": {
    "collapsed": true
   },
   "outputs": [],
   "source": []
  }
 ],
 "metadata": {
  "kernelspec": {
   "display_name": "Python 3",
   "language": "python",
   "name": "python3"
  },
  "language_info": {
   "codemirror_mode": {
    "name": "ipython",
    "version": 3
   },
   "file_extension": ".py",
   "mimetype": "text/x-python",
   "name": "python",
   "nbconvert_exporter": "python",
   "pygments_lexer": "ipython3",
   "version": "3.6.2"
  }
 },
 "nbformat": 4,
 "nbformat_minor": 2
}
